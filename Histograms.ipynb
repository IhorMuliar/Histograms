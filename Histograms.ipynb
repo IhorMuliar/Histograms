{
 "cells": [
  {
   "cell_type": "code",
   "execution_count": 1,
   "metadata": {},
   "outputs": [],
   "source": [
    "%matplotlib inline\n",
    "\n",
    "import numpy as np\n",
    "import pandas as pd\n",
    "import matplotlib.pyplot as plt\n",
    "import seaborn as sns"
   ]
  },
  {
   "cell_type": "code",
   "execution_count": 2,
   "metadata": {},
   "outputs": [],
   "source": [
    "data = pd.read_csv('E:/Data Science/Projects/DataVisualization/Data/thermostat_rebates_by_zip_1000.csv')"
   ]
  },
  {
   "cell_type": "code",
   "execution_count": 3,
   "metadata": {},
   "outputs": [
    {
     "data": {
      "text/html": [
       "<div>\n",
       "<style scoped>\n",
       "    .dataframe tbody tr th:only-of-type {\n",
       "        vertical-align: middle;\n",
       "    }\n",
       "\n",
       "    .dataframe tbody tr th {\n",
       "        vertical-align: top;\n",
       "    }\n",
       "\n",
       "    .dataframe thead th {\n",
       "        text-align: right;\n",
       "    }\n",
       "</style>\n",
       "<table border=\"1\" class=\"dataframe\">\n",
       "  <thead>\n",
       "    <tr style=\"text-align: right;\">\n",
       "      <th></th>\n",
       "      <th>zip-code</th>\n",
       "      <th>rebate-usd</th>\n",
       "      <th>lat</th>\n",
       "      <th>lng</th>\n",
       "      <th>median-household-income</th>\n",
       "      <th>mean-household-income</th>\n",
       "      <th>population</th>\n",
       "    </tr>\n",
       "  </thead>\n",
       "  <tbody>\n",
       "    <tr>\n",
       "      <th>0</th>\n",
       "      <td>54537</td>\n",
       "      <td>88</td>\n",
       "      <td>45.542527</td>\n",
       "      <td>-90.593705</td>\n",
       "      <td>40346</td>\n",
       "      <td>49323</td>\n",
       "      <td>561</td>\n",
       "    </tr>\n",
       "    <tr>\n",
       "      <th>1</th>\n",
       "      <td>52065</td>\n",
       "      <td>88</td>\n",
       "      <td>42.604343</td>\n",
       "      <td>-91.116117</td>\n",
       "      <td>48166</td>\n",
       "      <td>58112</td>\n",
       "      <td>1130</td>\n",
       "    </tr>\n",
       "    <tr>\n",
       "      <th>2</th>\n",
       "      <td>68757</td>\n",
       "      <td>100</td>\n",
       "      <td>42.636730</td>\n",
       "      <td>-96.899450</td>\n",
       "      <td>42674</td>\n",
       "      <td>53014</td>\n",
       "      <td>803</td>\n",
       "    </tr>\n",
       "    <tr>\n",
       "      <th>3</th>\n",
       "      <td>3465</td>\n",
       "      <td>100</td>\n",
       "      <td>42.831435</td>\n",
       "      <td>-72.177154</td>\n",
       "      <td>55910</td>\n",
       "      <td>65536</td>\n",
       "      <td>1969</td>\n",
       "    </tr>\n",
       "    <tr>\n",
       "      <th>4</th>\n",
       "      <td>28609</td>\n",
       "      <td>100</td>\n",
       "      <td>35.681101</td>\n",
       "      <td>-81.064426</td>\n",
       "      <td>52106</td>\n",
       "      <td>62665</td>\n",
       "      <td>5325</td>\n",
       "    </tr>\n",
       "  </tbody>\n",
       "</table>\n",
       "</div>"
      ],
      "text/plain": [
       "   zip-code  rebate-usd        lat        lng  median-household-income  \\\n",
       "0     54537          88  45.542527 -90.593705                    40346   \n",
       "1     52065          88  42.604343 -91.116117                    48166   \n",
       "2     68757         100  42.636730 -96.899450                    42674   \n",
       "3      3465         100  42.831435 -72.177154                    55910   \n",
       "4     28609         100  35.681101 -81.064426                    52106   \n",
       "\n",
       "   mean-household-income  population  \n",
       "0                  49323         561  \n",
       "1                  58112        1130  \n",
       "2                  53014         803  \n",
       "3                  65536        1969  \n",
       "4                  62665        5325  "
      ]
     },
     "execution_count": 3,
     "metadata": {},
     "output_type": "execute_result"
    }
   ],
   "source": [
    "data.head()"
   ]
  },
  {
   "cell_type": "code",
   "execution_count": 4,
   "metadata": {},
   "outputs": [
    {
     "data": {
      "text/plain": [
       "zip-code                   False\n",
       "rebate-usd                 False\n",
       "lat                        False\n",
       "lng                        False\n",
       "median-household-income    False\n",
       "mean-household-income      False\n",
       "population                 False\n",
       "dtype: bool"
      ]
     },
     "execution_count": 4,
     "metadata": {},
     "output_type": "execute_result"
    }
   ],
   "source": [
    "data.isnull().any()"
   ]
  },
  {
   "cell_type": "code",
   "execution_count": 5,
   "metadata": {},
   "outputs": [
    {
     "data": {
      "text/plain": [
       "False"
      ]
     },
     "execution_count": 5,
     "metadata": {},
     "output_type": "execute_result"
    }
   ],
   "source": [
    "data.duplicated().any()"
   ]
  },
  {
   "cell_type": "code",
   "execution_count": 6,
   "metadata": {},
   "outputs": [
    {
     "data": {
      "text/plain": [
       "count    1000.000000\n",
       "mean       92.573000\n",
       "std        18.289756\n",
       "min        45.000000\n",
       "25%        88.000000\n",
       "50%       100.000000\n",
       "75%       100.000000\n",
       "max       156.000000\n",
       "Name: rebate-usd, dtype: float64"
      ]
     },
     "execution_count": 6,
     "metadata": {},
     "output_type": "execute_result"
    }
   ],
   "source": [
    "data['rebate-usd'].describe()"
   ]
  },
  {
   "cell_type": "code",
   "execution_count": 7,
   "metadata": {},
   "outputs": [
    {
     "data": {
      "image/png": "[encoded data removed]",
      "text/plain": [
       "<Figure size 1080x720 with 2 Axes>"
      ]
     },
     "metadata": {
      "needs_background": "light"
     },
     "output_type": "display_data"
    }
   ],
   "source": [
    "fig, ax = plt.subplots(nrows=1, ncols=2, figsize=(15, 10))\n",
    "fig.suptitle('Сharts of Thermostatic Rebates in USD', fontsize=16)\n",
    "\n",
    "plt.subplot(2, 2, 2)\n",
    "sns.kdeplot(data['rebate-usd'], shade=True, legend = False)\n",
    "plt.xlabel('Rebate')\n",
    "plt.ylabel('Count')\n",
    "plt.title('Seaborn kdeplot')\n",
    "plt.axvline(data['rebate-usd'].mean(), color = 'red')\n",
    "\n",
    "plt.subplot(2, 2, 1)\n",
    "plt.hist(data['rebate-usd'], color = '#223b62', edgecolor = 'black')\n",
    "plt.xlabel('Rebate')\n",
    "plt.ylabel('Count')\n",
    "plt.title('Matplotlib hist')\n",
    "plt.axvline(data['rebate-usd'].mean(), color = 'red')\n",
    "\n",
    "plt.show()"
   ]
  },
  {
   "cell_type": "code",
   "execution_count": null,
   "metadata": {},
   "outputs": [],
   "source": []
  }
 ],
 "metadata": {
  "kernelspec": {
   "display_name": "Python 3",
   "language": "python",
   "name": "python3"
  },
  "language_info": {
   "codemirror_mode": {
    "name": "ipython",
    "version": 3
   },
   "file_extension": ".py",
   "mimetype": "text/x-python",
   "name": "python",
   "nbconvert_exporter": "python",
   "pygments_lexer": "ipython3",
   "version": "3.8.3"
  }
 },
 "nbformat": 4,
 "nbformat_minor": 4
}

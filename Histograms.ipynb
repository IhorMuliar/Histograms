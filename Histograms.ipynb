{
 "cells": [
  {
   "cell_type": "code",
   "execution_count": 1,
   "metadata": {},
   "outputs": [],
   "source": [
    "%matplotlib inline\n",
    "\n",
    "import numpy as np\n",
    "import pandas as pd\n",
    "import matplotlib.pyplot as plt\n",
    "import seaborn as sns"
   ]
  },
  {
   "cell_type": "code",
   "execution_count": 2,
   "metadata": {},
   "outputs": [],
   "source": [
    "data = pd.read_csv('E:/Data Science/Projects/DataVisualization/Data/thermostat_rebates_by_zip_1000.csv')"
   ]
  },
  {
   "cell_type": "code",
   "execution_count": 3,
   "metadata": {},
   "outputs": [
    {
     "data": {
      "text/html": [
       "<div>\n",
       "<style scoped>\n",
       "    .dataframe tbody tr th:only-of-type {\n",
       "        vertical-align: middle;\n",
       "    }\n",
       "\n",
       "    .dataframe tbody tr th {\n",
       "        vertical-align: top;\n",
       "    }\n",
       "\n",
       "    .dataframe thead th {\n",
       "        text-align: right;\n",
       "    }\n",
       "</style>\n",
       "<table border=\"1\" class=\"dataframe\">\n",
       "  <thead>\n",
       "    <tr style=\"text-align: right;\">\n",
       "      <th></th>\n",
       "      <th>zip-code</th>\n",
       "      <th>rebate-usd</th>\n",
       "      <th>lat</th>\n",
       "      <th>lng</th>\n",
       "      <th>median-household-income</th>\n",
       "      <th>mean-household-income</th>\n",
       "      <th>population</th>\n",
       "    </tr>\n",
       "  </thead>\n",
       "  <tbody>\n",
       "    <tr>\n",
       "      <th>0</th>\n",
       "      <td>54537</td>\n",
       "      <td>88</td>\n",
       "      <td>45.542527</td>\n",
       "      <td>-90.593705</td>\n",
       "      <td>40346</td>\n",
       "      <td>49323</td>\n",
       "      <td>561</td>\n",
       "    </tr>\n",
       "    <tr>\n",
       "      <th>1</th>\n",
       "      <td>52065</td>\n",
       "      <td>88</td>\n",
       "      <td>42.604343</td>\n",
       "      <td>-91.116117</td>\n",
       "      <td>48166</td>\n",
       "      <td>58112</td>\n",
       "      <td>1130</td>\n",
       "    </tr>\n",
       "    <tr>\n",
       "      <th>2</th>\n",
       "      <td>68757</td>\n",
       "      <td>100</td>\n",
       "      <td>42.636730</td>\n",
       "      <td>-96.899450</td>\n",
       "      <td>42674</td>\n",
       "      <td>53014</td>\n",
       "      <td>803</td>\n",
       "    </tr>\n",
       "    <tr>\n",
       "      <th>3</th>\n",
       "      <td>3465</td>\n",
       "      <td>100</td>\n",
       "      <td>42.831435</td>\n",
       "      <td>-72.177154</td>\n",
       "      <td>55910</td>\n",
       "      <td>65536</td>\n",
       "      <td>1969</td>\n",
       "    </tr>\n",
       "    <tr>\n",
       "      <th>4</th>\n",
       "      <td>28609</td>\n",
       "      <td>100</td>\n",
       "      <td>35.681101</td>\n",
       "      <td>-81.064426</td>\n",
       "      <td>52106</td>\n",
       "      <td>62665</td>\n",
       "      <td>5325</td>\n",
       "    </tr>\n",
       "  </tbody>\n",
       "</table>\n",
       "</div>"
      ],
      "text/plain": [
       "   zip-code  rebate-usd        lat        lng  median-household-income  \\\n",
       "0     54537          88  45.542527 -90.593705                    40346   \n",
       "1     52065          88  42.604343 -91.116117                    48166   \n",
       "2     68757         100  42.636730 -96.899450                    42674   \n",
       "3      3465         100  42.831435 -72.177154                    55910   \n",
       "4     28609         100  35.681101 -81.064426                    52106   \n",
       "\n",
       "   mean-household-income  population  \n",
       "0                  49323         561  \n",
       "1                  58112        1130  \n",
       "2                  53014         803  \n",
       "3                  65536        1969  \n",
       "4                  62665        5325  "
      ]
     },
     "execution_count": 3,
     "metadata": {},
     "output_type": "execute_result"
    }
   ],
   "source": [
    "data.head()"
   ]
  },
  {
   "cell_type": "code",
   "execution_count": 4,
   "metadata": {},
   "outputs": [
    {
     "data": {
      "text/plain": [
       "zip-code                   False\n",
       "rebate-usd                 False\n",
       "lat                        False\n",
       "lng                        False\n",
       "median-household-income    False\n",
       "mean-household-income      False\n",
       "population                 False\n",
       "dtype: bool"
      ]
     },
     "execution_count": 4,
     "metadata": {},
     "output_type": "execute_result"
    }
   ],
   "source": [
    "data.isnull().any()"
   ]
  },
  {
   "cell_type": "code",
   "execution_count": 5,
   "metadata": {},
   "outputs": [
    {
     "data": {
      "text/plain": [
       "False"
      ]
     },
     "execution_count": 5,
     "metadata": {},
     "output_type": "execute_result"
    }
   ],
   "source": [
    "data.duplicated().any()"
   ]
  },
  {
   "cell_type": "code",
   "execution_count": 6,
   "metadata": {},
   "outputs": [
    {
     "data": {
      "text/plain": [
       "count    1000.000000\n",
       "mean       92.573000\n",
       "std        18.289756\n",
       "min        45.000000\n",
       "25%        88.000000\n",
       "50%       100.000000\n",
       "75%       100.000000\n",
       "max       156.000000\n",
       "Name: rebate-usd, dtype: float64"
      ]
     },
     "execution_count": 6,
     "metadata": {},
     "output_type": "execute_result"
    }
   ],
   "source": [
    "data['rebate-usd'].describe()"
   ]
  },
  {
   "cell_type": "code",
   "execution_count": 7,
   "metadata": {},
   "outputs": [
    {
     "data": {
      "image/png": "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\n",
      "text/plain": [
       "<Figure size 1080x720 with 2 Axes>"
      ]
     },
     "metadata": {
      "needs_background": "light"
     },
     "output_type": "display_data"
    }
   ],
   "source": [
    "fig, ax = plt.subplots(nrows=1, ncols=2, figsize=(15, 10))\n",
    "fig.suptitle('Сharts of Thermostatic Rebates in USD', fontsize=16)\n",
    "\n",
    "plt.subplot(2, 2, 2)\n",
    "sns.kdeplot(data['rebate-usd'], shade=True, legend = False)\n",
    "plt.xlabel('Rebate')\n",
    "plt.ylabel('Count')\n",
    "plt.axvline(data['rebate-usd'].mean(), color = '#fc4f30')"
    "plt.title('Seaborn kdeplot')\n",
    "\n",
    "plt.subplot(2, 2, 1)\n",
    "plt.hist(data['rebate-usd'], color = '#223b62')\n",
    "plt.xlabel('Rebate')\n",
    "plt.ylabel('Count')\n",
    "plt.title('Matplotlib hist')\n",
    "\n",
    "\n",
    "plt.show()"
   ]
  },
  {
   "cell_type": "code",
   "execution_count": null,
   "metadata": {},
   "outputs": [],
   "source": []
  }
 ],
 "metadata": {
  "kernelspec": {
   "display_name": "Python 3",
   "language": "python",
   "name": "python3"
  },
  "language_info": {
   "codemirror_mode": {
    "name": "ipython",
    "version": 3
   },
   "file_extension": ".py",
   "mimetype": "text/x-python",
   "name": "python",
   "nbconvert_exporter": "python",
   "pygments_lexer": "ipython3",
   "version": "3.8.3"
  }
 },
 "nbformat": 4,
 "nbformat_minor": 4
}
